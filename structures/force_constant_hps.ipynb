{
 "cells": [
  {
   "cell_type": "markdown",
   "metadata": {},
   "source": [
    "Code used to estimate the force constant to use for harmonic potentials given the number of ions in simulation and the desired maximum concentration"
   ]
  },
  {
   "cell_type": "markdown",
   "metadata": {},
   "source": [
    "## Imports"
   ]
  },
  {
   "cell_type": "code",
   "execution_count": 1,
   "metadata": {},
   "outputs": [],
   "source": [
    "import numpy as np\n",
    "import math\n",
    "import sys\n",
    "import mpmath\n",
    "sys.modules['sympy.mpmath'] = mpmath\n",
    "from openmm.unit import AVOGADRO_CONSTANT_NA, BOLTZMANN_CONSTANT_kB\n",
    "from openmm.unit import kelvin, bar, litre, kilojoule_per_mole, mole, nanometer, angstrom, kilocalorie_per_mole,molar,molal\n",
    "from openmm.unit import Quantity, Unit\n",
    "import sympy as sp\n",
    "from sympy import symbols, Function, log, Sum\n",
    "from sympy.abc import x, y, z\n",
    "import scipy.integrate\n",
    "import matplotlib.pyplot as plt\n",
    "from scipy.special import erf\n",
    "from scipy.optimize import root\n"
   ]
  },
  {
   "cell_type": "markdown",
   "metadata": {},
   "source": [
    "## Simulation Setup"
   ]
  },
  {
   "cell_type": "code",
   "execution_count": 2,
   "metadata": {},
   "outputs": [],
   "source": [
    "R = BOLTZMANN_CONSTANT_kB * AVOGADRO_CONSTANT_NA"
   ]
  },
  {
   "cell_type": "code",
   "execution_count": 3,
   "metadata": {},
   "outputs": [
    {
     "name": "stdout",
     "output_type": "stream",
     "text": [
      "Volume is 3.31776e-22 L L\n",
      "Number of water molecules in box: 11099\n"
     ]
    }
   ],
   "source": [
    "#Volume in L of Box\n",
    "w=4.8*nanometer\n",
    "l=4.8*nanometer\n",
    "h=14.4*nanometer\n",
    "vol=(w*l*h)\n",
    "volL=vol.in_units_of(litre)\n",
    "print(f'Volume is {volL} L')\n",
    "\n",
    "#Particles of water in box\n",
    "waters=(55.55*molar)*volL*AVOGADRO_CONSTANT_NA\n",
    "print(f'Number of water molecules in box: {math.ceil(waters)}')"
   ]
  },
  {
   "cell_type": "code",
   "execution_count": 4,
   "metadata": {},
   "outputs": [],
   "source": [
    "def solute_particles(num_water_molecules, molality_molkg):\n",
    "    \"\"\"\n",
    "    Calculate the number of solute molecules required to achieve a target molality.\n",
    "\n",
    "    Parameters:\n",
    "    - num_water_molecules (int): Total number of water molecules in the system.\n",
    "    - molality_molkg (float): Target molality in mol/kg.\n",
    "\n",
    "    Returns:\n",
    "    - int: Number of solute molecules needed.\n",
    "    \"\"\"\n",
    "    AVOGADRO = 6.02214076e23  # molecules/mol\n",
    "    WATER_MOLAR_MASS = 18.01528  # g/mol\n",
    "    KG_PER_GRAM = 1e-3  # Conversion factor\n",
    "\n",
    "    # Calculate the mass of water in grams\n",
    "    mass_water_grams = (num_water_molecules / AVOGADRO) * WATER_MOLAR_MASS\n",
    "\n",
    "    # Convert mass of water to kilograms\n",
    "    mass_water_kg = mass_water_grams * KG_PER_GRAM\n",
    "\n",
    "    # Use molality definition: mol/kg = moles_solute / mass_water_kg\n",
    "    moles_solute = molality_molkg * mass_water_kg\n",
    "\n",
    "    # Convert moles of solute to number of molecules\n",
    "    num_solute_molecules = int(round(moles_solute * AVOGADRO))\n",
    "\n",
    "    return num_solute_molecules\n"
   ]
  },
  {
   "cell_type": "code",
   "execution_count": 5,
   "metadata": {},
   "outputs": [],
   "source": [
    "molalities=[0.1,0.2,0.3,0.4,0.5,0.6,0.7,0.8,0.9,1.0]"
   ]
  },
  {
   "cell_type": "code",
   "execution_count": 6,
   "metadata": {},
   "outputs": [
    {
     "name": "stdout",
     "output_type": "stream",
     "text": [
      "Number of solute molecules needed for 0.1 molal: 20\n",
      "Number of solute molecules needed for 0.2 molal: 40\n",
      "Number of solute molecules needed for 0.3 molal: 60\n",
      "Number of solute molecules needed for 0.4 molal: 80\n",
      "Number of solute molecules needed for 0.5 molal: 100\n",
      "Number of solute molecules needed for 0.6 molal: 120\n",
      "Number of solute molecules needed for 0.7 molal: 140\n",
      "Number of solute molecules needed for 0.8 molal: 160\n",
      "Number of solute molecules needed for 0.9 molal: 180\n",
      "Number of solute molecules needed for 1.0 molal: 200\n"
     ]
    }
   ],
   "source": [
    "solute_particle_counts = []\n",
    "for i in molalities:\n",
    "    particles_needed = solute_particles(num_water_molecules=math.ceil(waters), molality_molkg=i)\n",
    "    solute_particle_counts.append(particles_needed)\n",
    "    print(f\"Number of solute molecules needed for {i} molal: {particles_needed}\")"
   ]
  },
  {
   "cell_type": "markdown",
   "metadata": {},
   "source": [
    "## Constants and variables to modify according to simulation setup"
   ]
  },
  {
   "cell_type": "code",
   "execution_count": 7,
   "metadata": {},
   "outputs": [],
   "source": [
    "# System composition\n",
    "Cmax_target = 0.5 * mole/litre # maximum molal concentration desired in units of molar\n",
    "N_ions = 33 #number of ions corresponding to desired cmax\n",
    "\n",
    "# Simulation box\n",
    "L_z = 14.4 * nanometer # total length of box in z direction\n",
    "Lx, Ly, Lz = np.array([4.8, 4.8, 14.4]) * nanometer\n",
    "\n",
    "# Simulation temperature\n",
    "T = 300 * kelvin"
   ]
  },
  {
   "cell_type": "markdown",
   "metadata": {},
   "source": [
    "## Numerical Approximation"
   ]
  },
  {
   "cell_type": "code",
   "execution_count": 8,
   "metadata": {},
   "outputs": [],
   "source": [
    "def calc_C_max_from_spring_const(k : Quantity) -> Quantity:\n",
    "    A = Lx * Ly\n",
    "    K = k / (2 * R * T)\n",
    "    Ksq = np.sqrt(K._value) * (1*K.unit).sqrt()\n",
    "\n",
    "    Cmax = (N_ions/A * Ksq) / (np.sqrt(np.pi) * erf(Lz / (2 * Ksq)))\n",
    "    Cmax = (Cmax / AVOGADRO_CONSTANT_NA).in_units_of(molar)\n",
    "\n",
    "    return Cmax\n",
    "\n",
    "def Cmax_for_roots(k : float) -> float:\n",
    "    return calc_C_max_from_spring_const(\n",
    "        k * kilojoule_per_mole/nanometer**2\n",
    "        ) - Cmax_target"
   ]
  },
  {
   "cell_type": "code",
   "execution_count": 9,
   "metadata": {},
   "outputs": [
    {
     "name": "stdout",
     "output_type": "stream",
     "text": [
      "Estimated force constant:  [0.69265056] \n",
      "\n"
     ]
    },
    {
     "name": "stderr",
     "output_type": "stream",
     "text": [
      "/home/bamo6610/miniconda3/envs/calculus/lib/python3.10/site-packages/openmm/unit/quantity.py:414: RuntimeWarning: divide by zero encountered in reciprocal\n",
      "  return self * pow(other, -1.0)\n"
     ]
    }
   ],
   "source": [
    "#Estimate force constant\n",
    "soln = root(lambda k : Cmax_for_roots(k)._value, np.float64(0.0))\n",
    "print('Estimated force constant: ',soln.x,\"\\n\")"
   ]
  },
  {
   "cell_type": "code",
   "execution_count": 10,
   "metadata": {},
   "outputs": [
    {
     "name": "stdout",
     "output_type": "stream",
     "text": [
      "Cmax from spring constant:  [0.5] M\n"
     ]
    }
   ],
   "source": [
    "# Check force constant returns desired maximum concentration\n",
    "Cmax = calc_C_max_from_spring_const(\n",
    "    k=soln.x * kilojoule_per_mole/nanometer**2\n",
    "    )\n",
    "print('Cmax from spring constant: ',Cmax)"
   ]
  },
  {
   "cell_type": "code",
   "execution_count": 11,
   "metadata": {},
   "outputs": [
    {
     "name": "stdout",
     "output_type": "stream",
     "text": [
      "Cmax from spring constant:  0.4954129616936893 M\n"
     ]
    }
   ],
   "source": [
    "# Check force constant returns desired maximum concentration\n",
    "Cmax_check = calc_C_max_from_spring_const(\n",
    "    k=0.68 * kilojoule_per_mole/nanometer**2\n",
    "    )\n",
    "print('Cmax from spring constant: ',Cmax_check)"
   ]
  },
  {
   "cell_type": "code",
   "execution_count": 12,
   "metadata": {},
   "outputs": [],
   "source": [
    "L_x=Lx.value_in_unit(nanometer)\n",
    "L_y=Ly.value_in_unit(nanometer)\n",
    "L_z=Lz.value_in_unit(nanometer)\n"
   ]
  },
  {
   "cell_type": "code",
   "execution_count": 17,
   "metadata": {},
   "outputs": [
    {
     "name": "stdout",
     "output_type": "stream",
     "text": [
      "2.4003977004926202\n",
      "0.6147708124122915\n"
     ]
    }
   ],
   "source": [
    "R=8.31446261815324\n",
    "T=300\n",
    "k=0.68\n",
    "N_s=34\n",
    "ideal_norm = np.sqrt(np.pi*R*T/(2*1000*k)) #analytical solution\n",
    "print(ideal_norm)\n",
    "cmax_ideal=N_s/(L_x*L_y*ideal_norm)\n",
    "print(cmax_ideal)\n",
    "# Cmax_I = (cmax_ideal / AVOGADRO_CONSTANT_NA).in_units_of(molar)\n",
    "# print(Cmax_I)"
   ]
  },
  {
   "cell_type": "code",
   "execution_count": null,
   "metadata": {},
   "outputs": [],
   "source": []
  }
 ],
 "metadata": {
  "kernelspec": {
   "display_name": "calculus",
   "language": "python",
   "name": "python3"
  },
  "language_info": {
   "codemirror_mode": {
    "name": "ipython",
    "version": 3
   },
   "file_extension": ".py",
   "mimetype": "text/x-python",
   "name": "python",
   "nbconvert_exporter": "python",
   "pygments_lexer": "ipython3",
   "version": "3.10.13"
  }
 },
 "nbformat": 4,
 "nbformat_minor": 2
}
